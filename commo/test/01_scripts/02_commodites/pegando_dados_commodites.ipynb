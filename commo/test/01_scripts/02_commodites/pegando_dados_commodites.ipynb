{
 "cells": [
  {
   "cell_type": "markdown",
   "metadata": {},
   "source": [
    "## Pegando dados das commodites através da biblioteca yfinance"
   ]
  },
  {
   "cell_type": "markdown",
   "metadata": {},
   "source": [
    "#### Importando bibliotecas e fazendo preparações"
   ]
  },
  {
   "cell_type": "markdown",
   "metadata": {},
   "source": [
    "Instalando as LIBs"
   ]
  },
  {
   "cell_type": "code",
   "execution_count": 1,
   "metadata": {},
   "outputs": [
    {
     "name": "stdout",
     "output_type": "stream",
     "text": [
      "Requirement already satisfied: pandas in c:\\users\\55119\\appdata\\local\\packages\\pythonsoftwarefoundation.python.3.11_qbz5n2kfra8p0\\localcache\\local-packages\\python311\\site-packages (2.2.2)"
     ]
    },
    {
     "name": "stderr",
     "output_type": "stream",
     "text": [
      "  WARNING: The script sample.exe is installed in 'C:\\Users\\55119\\AppData\\Local\\Packages\\PythonSoftwareFoundation.Python.3.11_qbz5n2kfra8p0\\LocalCache\\local-packages\\Python311\\Scripts' which is not on PATH.\n",
      "  Consider adding this directory to PATH or, if you prefer to suppress this warning, use --no-warn-script-location.\n",
      "\n",
      "[notice] A new release of pip is available: 24.0 -> 24.2\n",
      "[notice] To update, run: C:\\Users\\55119\\AppData\\Local\\Microsoft\\WindowsApps\\PythonSoftwareFoundation.Python.3.11_qbz5n2kfra8p0\\python.exe -m pip install --upgrade pip\n"
     ]
    },
    {
     "name": "stdout",
     "output_type": "stream",
     "text": [
      "\n",
      "Collecting yfinance\n",
      "  Downloading yfinance-0.2.43-py2.py3-none-any.whl.metadata (11 kB)\n",
      "Requirement already satisfied: numpy>=1.23.2 in c:\\users\\55119\\appdata\\local\\packages\\pythonsoftwarefoundation.python.3.11_qbz5n2kfra8p0\\localcache\\local-packages\\python311\\site-packages (from pandas) (1.26.4)\n",
      "Requirement already satisfied: python-dateutil>=2.8.2 in c:\\users\\55119\\appdata\\local\\packages\\pythonsoftwarefoundation.python.3.11_qbz5n2kfra8p0\\localcache\\local-packages\\python311\\site-packages (from pandas) (2.9.0.post0)\n",
      "Requirement already satisfied: pytz>=2020.1 in c:\\users\\55119\\appdata\\local\\packages\\pythonsoftwarefoundation.python.3.11_qbz5n2kfra8p0\\localcache\\local-packages\\python311\\site-packages (from pandas) (2024.1)\n",
      "Requirement already satisfied: tzdata>=2022.7 in c:\\users\\55119\\appdata\\local\\packages\\pythonsoftwarefoundation.python.3.11_qbz5n2kfra8p0\\localcache\\local-packages\\python311\\site-packages (from pandas) (2024.1)\n",
      "Requirement already satisfied: requests>=2.31 in c:\\users\\55119\\appdata\\local\\packages\\pythonsoftwarefoundation.python.3.11_qbz5n2kfra8p0\\localcache\\local-packages\\python311\\site-packages (from yfinance) (2.31.0)\n",
      "Collecting multitasking>=0.0.7 (from yfinance)\n",
      "  Downloading multitasking-0.0.11-py3-none-any.whl.metadata (5.5 kB)\n",
      "Collecting lxml>=4.9.1 (from yfinance)\n",
      "  Downloading lxml-5.3.0-cp311-cp311-win_amd64.whl.metadata (3.9 kB)\n",
      "Collecting platformdirs>=2.0.0 (from yfinance)\n",
      "  Downloading platformdirs-4.3.6-py3-none-any.whl.metadata (11 kB)\n",
      "Collecting frozendict>=2.3.4 (from yfinance)\n",
      "  Downloading frozendict-2.4.4-py311-none-any.whl.metadata (23 kB)\n",
      "Collecting peewee>=3.16.2 (from yfinance)\n",
      "  Downloading peewee-3.17.6.tar.gz (3.0 MB)\n",
      "     ---------------------------------------- 0.0/3.0 MB ? eta -:--:--\n",
      "     ---- ----------------------------------- 0.3/3.0 MB 6.5 MB/s eta 0:00:01\n",
      "     -------- ------------------------------- 0.6/3.0 MB 7.7 MB/s eta 0:00:01\n",
      "     ------------- -------------------------- 1.0/3.0 MB 7.9 MB/s eta 0:00:01\n",
      "     ------------------- -------------------- 1.5/3.0 MB 7.7 MB/s eta 0:00:01\n",
      "     ------------------------- -------------- 1.9/3.0 MB 8.5 MB/s eta 0:00:01\n",
      "     ------------------------------ --------- 2.3/3.0 MB 8.0 MB/s eta 0:00:01\n",
      "     ------------------------------------ --- 2.7/3.0 MB 8.1 MB/s eta 0:00:01\n",
      "     ---------------------------------------  2.9/3.0 MB 8.2 MB/s eta 0:00:01\n",
      "     ---------------------------------------  2.9/3.0 MB 8.2 MB/s eta 0:00:01\n",
      "     ---------------------------------------- 3.0/3.0 MB 7.0 MB/s eta 0:00:00\n",
      "  Installing build dependencies: started\n",
      "  Installing build dependencies: finished with status 'done'\n",
      "  Getting requirements to build wheel: started\n",
      "  Getting requirements to build wheel: finished with status 'done'\n",
      "  Preparing metadata (pyproject.toml): started\n",
      "  Preparing metadata (pyproject.toml): finished with status 'done'\n",
      "Requirement already satisfied: beautifulsoup4>=4.11.1 in c:\\users\\55119\\appdata\\local\\packages\\pythonsoftwarefoundation.python.3.11_qbz5n2kfra8p0\\localcache\\local-packages\\python311\\site-packages (from yfinance) (4.12.2)\n",
      "Collecting html5lib>=1.1 (from yfinance)\n",
      "  Downloading html5lib-1.1-py2.py3-none-any.whl.metadata (16 kB)\n",
      "Requirement already satisfied: soupsieve>1.2 in c:\\users\\55119\\appdata\\local\\packages\\pythonsoftwarefoundation.python.3.11_qbz5n2kfra8p0\\localcache\\local-packages\\python311\\site-packages (from beautifulsoup4>=4.11.1->yfinance) (2.5)\n",
      "Requirement already satisfied: six>=1.9 in c:\\users\\55119\\appdata\\local\\packages\\pythonsoftwarefoundation.python.3.11_qbz5n2kfra8p0\\localcache\\local-packages\\python311\\site-packages (from html5lib>=1.1->yfinance) (1.16.0)\n",
      "Collecting webencodings (from html5lib>=1.1->yfinance)\n",
      "  Downloading webencodings-0.5.1-py2.py3-none-any.whl.metadata (2.1 kB)\n",
      "Requirement already satisfied: charset-normalizer<4,>=2 in c:\\users\\55119\\appdata\\local\\packages\\pythonsoftwarefoundation.python.3.11_qbz5n2kfra8p0\\localcache\\local-packages\\python311\\site-packages (from requests>=2.31->yfinance) (3.3.0)\n",
      "Requirement already satisfied: idna<4,>=2.5 in c:\\users\\55119\\appdata\\local\\packages\\pythonsoftwarefoundation.python.3.11_qbz5n2kfra8p0\\localcache\\local-packages\\python311\\site-packages (from requests>=2.31->yfinance) (3.4)\n",
      "Requirement already satisfied: urllib3<3,>=1.21.1 in c:\\users\\55119\\appdata\\local\\packages\\pythonsoftwarefoundation.python.3.11_qbz5n2kfra8p0\\localcache\\local-packages\\python311\\site-packages (from requests>=2.31->yfinance) (2.0.6)\n",
      "Requirement already satisfied: certifi>=2017.4.17 in c:\\users\\55119\\appdata\\local\\packages\\pythonsoftwarefoundation.python.3.11_qbz5n2kfra8p0\\localcache\\local-packages\\python311\\site-packages (from requests>=2.31->yfinance) (2023.7.22)\n",
      "Downloading yfinance-0.2.43-py2.py3-none-any.whl (84 kB)\n",
      "   ---------------------------------------- 0.0/84.6 kB ? eta -:--:--\n",
      "   ---------------------------------------- 84.6/84.6 kB 4.6 MB/s eta 0:00:00\n",
      "Downloading frozendict-2.4.4-py311-none-any.whl (16 kB)\n",
      "Downloading html5lib-1.1-py2.py3-none-any.whl (112 kB)\n",
      "   ---------------------------------------- 0.0/112.2 kB ? eta -:--:--\n",
      "   ---------------------------------------- 112.2/112.2 kB 6.4 MB/s eta 0:00:00\n",
      "Downloading lxml-5.3.0-cp311-cp311-win_amd64.whl (3.8 MB)\n",
      "   ---------------------------------------- 0.0/3.8 MB ? eta -:--:--\n",
      "   ---- ----------------------------------- 0.4/3.8 MB 27.3 MB/s eta 0:00:01\n",
      "   -------- ------------------------------- 0.8/3.8 MB 10.5 MB/s eta 0:00:01\n",
      "   ----------- ---------------------------- 1.1/3.8 MB 8.9 MB/s eta 0:00:01\n",
      "   --------------- ------------------------ 1.5/3.8 MB 8.8 MB/s eta 0:00:01\n",
      "   --------------- ------------------------ 1.5/3.8 MB 8.8 MB/s eta 0:00:01\n",
      "   ------------------- -------------------- 1.9/3.8 MB 7.0 MB/s eta 0:00:01\n",
      "   --------------------- ------------------ 2.0/3.8 MB 6.5 MB/s eta 0:00:01\n",
      "   ---------------------- ----------------- 2.2/3.8 MB 6.0 MB/s eta 0:00:01\n",
      "   --------------------------- ------------ 2.6/3.8 MB 6.3 MB/s eta 0:00:01\n",
      "   ----------------------------- ---------- 2.8/3.8 MB 6.2 MB/s eta 0:00:01\n",
      "   ---------------------------------- ----- 3.3/3.8 MB 6.5 MB/s eta 0:00:01\n",
      "   ------------------------------------ --- 3.5/3.8 MB 6.3 MB/s eta 0:00:01\n",
      "   ------------------------------------- -- 3.5/3.8 MB 6.3 MB/s eta 0:00:01\n",
      "   -------------------------------------- - 3.6/3.8 MB 5.7 MB/s eta 0:00:01\n",
      "   -------------------------------------- - 3.6/3.8 MB 5.7 MB/s eta 0:00:01\n",
      "   ---------------------------------------  3.8/3.8 MB 5.3 MB/s eta 0:00:01\n",
      "   ---------------------------------------- 3.8/3.8 MB 5.0 MB/s eta 0:00:00\n",
      "Downloading multitasking-0.0.11-py3-none-any.whl (8.5 kB)\n",
      "Downloading platformdirs-4.3.6-py3-none-any.whl (18 kB)\n",
      "Downloading webencodings-0.5.1-py2.py3-none-any.whl (11 kB)\n",
      "Building wheels for collected packages: peewee\n",
      "  Building wheel for peewee (pyproject.toml): started\n",
      "  Building wheel for peewee (pyproject.toml): finished with status 'done'\n",
      "  Created wheel for peewee: filename=peewee-3.17.6-py3-none-any.whl size=138939 sha256=09da99cefc1ba09705abebf1b2e474e40e8c4ff5c83760d55743d8ab44637f34\n",
      "  Stored in directory: c:\\users\\55119\\appdata\\local\\pip\\cache\\wheels\\1c\\09\\7e\\9f659fde248ecdc1722a142c1d744271aad3914a0afc191058\n",
      "Successfully built peewee\n",
      "Installing collected packages: webencodings, peewee, multitasking, platformdirs, lxml, html5lib, frozendict, yfinance\n",
      "Successfully installed frozendict-2.4.4 html5lib-1.1 lxml-5.3.0 multitasking-0.0.11 peewee-3.17.6 platformdirs-4.3.6 webencodings-0.5.1 yfinance-0.2.43\n"
     ]
    }
   ],
   "source": [
    "!pip install pandas yfinance"
   ]
  },
  {
   "cell_type": "markdown",
   "metadata": {},
   "source": [
    "Importando as LIBs"
   ]
  },
  {
   "cell_type": "code",
   "execution_count": 2,
   "metadata": {},
   "outputs": [],
   "source": [
    "import pandas as pd\n",
    "import yfinance as yf\n",
    "from buscarDados import createFile"
   ]
  },
  {
   "cell_type": "markdown",
   "metadata": {},
   "source": [
    "#### Pegando dados "
   ]
  },
  {
   "cell_type": "code",
   "execution_count": 10,
   "metadata": {},
   "outputs": [
    {
     "name": "stdout",
     "output_type": "stream",
     "text": [
      "{'maxAge': 86400, 'priceHint': 2, 'previousClose': 2694.9, 'open': 2695.1, 'dayLow': 2665.3, 'dayHigh': 2696.9, 'regularMarketPreviousClose': 2694.9, 'regularMarketOpen': 2695.1, 'regularMarketDayLow': 2665.3, 'regularMarketDayHigh': 2696.9, 'volume': 185803, 'regularMarketVolume': 185803, 'averageVolume': 3231, 'averageVolume10days': 3484, 'averageDailyVolume10Day': 3484, 'bid': 2680.5, 'ask': 2681.4, 'bidSize': 1400, 'askSize': 800, 'expireDate': 1735257600, 'openInterest': 465158, 'fiftyTwoWeekLow': 1809.4, 'fiftyTwoWeekHigh': 2696.9, 'fiftyDayAverage': 2492.938, 'twoHundredDayAverage': 2279.4136, 'currency': 'USD', 'exchange': 'CMX', 'quoteType': 'FUTURE', 'symbol': 'GCZ24.CMX', 'underlyingSymbol': 'GC=F', 'shortName': 'Gold Dec 24', 'firstTradeDateEpochUtc': 967608000, 'timeZoneFullName': 'America/New_York', 'timeZoneShortName': 'EDT', 'uuid': '14f8f2ec-b820-38f7-ba5f-b3f5a47aec05', 'gmtOffSetMilliseconds': -14400000, 'trailingPegRatio': None}\n",
      "Exibindo dados do Ouro\n",
      "Arquivo CSV criado com sucesso!\n",
      "{'maxAge': 86400, 'priceHint': 2, 'previousClose': 269.15, 'open': 272.0, 'dayLow': 264.6, 'dayHigh': 273.15, 'regularMarketPreviousClose': 269.15, 'regularMarketOpen': 272.0, 'regularMarketDayLow': 264.6, 'regularMarketDayHigh': 273.15, 'volume': 14947, 'regularMarketVolume': 14947, 'averageVolume': 9691, 'averageVolume10days': 14018, 'averageDailyVolume10Day': 14018, 'bid': 268.6, 'ask': 268.8, 'expireDate': 1734480000, 'openInterest': 99942, 'fiftyTwoWeekLow': 143.7, 'fiftyTwoWeekHigh': 275.05, 'fiftyDayAverage': 246.944, 'twoHundredDayAverage': 217.3595, 'currency': 'USX', 'exchange': 'NYB', 'quoteType': 'FUTURE', 'symbol': 'KCZ24.NYB', 'underlyingSymbol': 'KC=F', 'shortName': 'Coffee Dec 24', 'firstTradeDateEpochUtc': 946875600, 'timeZoneFullName': 'America/New_York', 'timeZoneShortName': 'EDT', 'uuid': '80e0362c-2e35-311c-a7ed-32246b47c666', 'gmtOffSetMilliseconds': -14400000, 'trailingPegRatio': None}\n",
      "Exibindo dados do Café\n",
      "Arquivo CSV criado com sucesso!\n",
      "{'maxAge': 86400, 'priceHint': 2, 'previousClose': 71.09, 'open': 70.87, 'dayLow': 70.46, 'dayHigh': 71.99, 'regularMarketPreviousClose': 71.09, 'regularMarketOpen': 70.87, 'regularMarketDayLow': 70.46, 'regularMarketDayHigh': 71.99, 'volume': 49761, 'regularMarketVolume': 49761, 'averageVolume': 39902, 'averageVolume10days': 30265, 'averageDailyVolume10Day': 30265, 'bid': 71.36, 'ask': 72.62, 'expireDate': 1730419200, 'openInterest': 30431, 'fiftyTwoWeekLow': 68.69, 'fiftyTwoWeekHigh': 93.79, 'fiftyDayAverage': 76.9326, 'twoHundredDayAverage': 81.6591, 'currency': 'USD', 'exchange': 'NYM', 'quoteType': 'FUTURE', 'symbol': 'BZZ24.NYM', 'underlyingSymbol': 'BZ=F', 'shortName': 'Brent Crude Oil Last Day Financ', 'firstTradeDateEpochUtc': 1185768000, 'timeZoneFullName': 'America/New_York', 'timeZoneShortName': 'EDT', 'uuid': '06672b05-645b-3b9d-9410-aed8c09764c9', 'gmtOffSetMilliseconds': -14400000, 'trailingPegRatio': None}\n",
      "Exibindo dados do Petroleo\n",
      "Arquivo CSV criado com sucesso!\n"
     ]
    }
   ],
   "source": [
    "#Pegando dados do Ouro\n",
    "createFile('GC=F','Ouro',)\n",
    "\n",
    "#Pegando dados do Café\n",
    "createFile('KC=F','Café')\n",
    "\n",
    "#Pegando dados do Petroleo\n",
    "createFile('BZ=F','Petroleo')"
   ]
  },
  {
   "cell_type": "code",
   "execution_count": 9,
   "metadata": {},
   "outputs": [],
   "source": [
    "# df = pd.read_csv(r'C:\\Users\\55119\\OneDrive\\Documentos\\Marcos\\2024-02\\Itau-asset\\test\\02_bases_originais\\Café.csv')\n",
    "# df['20_MA'] = df['Close'].rolling(window = 20).mean()\n",
    "# df['50_MA'] = df['Close'].rolling(window = 50).mean()\n",
    "# df.head(20)"
   ]
  },
  {
   "cell_type": "code",
   "execution_count": 11,
   "metadata": {},
   "outputs": [
    {
     "name": "stdout",
     "output_type": "stream",
     "text": [
      "{'address1': '18301 von Karman Avenue', 'address2': 'Suite 250', 'city': 'Irvine', 'state': 'CA', 'zip': '92612', 'country': 'United States', 'phone': '949-260-0150', 'website': 'https://www.monarchstaffinginc.com', 'longBusinessSummary': 'Monarch Staffing, Inc. provides healthcare staffing services to healthcare providers, state institutions, and related organizations in California. It places pharmacists, nurses, and therapists. The company is based in Irvine, California.', 'fullTimeEmployees': 24, 'maxAge': 86400, 'priceHint': 4, 'previousClose': 1e-06, 'open': 1e-06, 'dayLow': 1e-06, 'dayHigh': 1e-06, 'regularMarketPreviousClose': 1e-06, 'regularMarketOpen': 1e-06, 'regularMarketDayLow': 1e-06, 'regularMarketDayHigh': 1e-06, 'beta': -81.796, 'volume': 86434000, 'regularMarketVolume': 86434000, 'averageVolume': 799999, 'averageVolume10days': 12809399, 'averageDailyVolume10Day': 12809399, 'marketCap': 30, 'fiftyTwoWeekLow': 1e-06, 'fiftyTwoWeekHigh': 0.000101, 'priceToSalesTrailing12Months': 3.969815e-06, 'fiftyDayAverage': 7.6667e-06, 'twoHundredDayAverage': 7.6667e-06, 'currency': 'USD', 'enterpriseValue': 3204829, 'profitMargins': -0.18058, 'sharesOutstanding': 30288000, 'bookValue': -0.089, 'lastFiscalYearEnd': 1167523200, 'nextFiscalYearEnd': 1199059200, 'mostRecentQuarter': 1191110400, 'netIncomeToCommon': -1364675, 'trailingEps': -0.135, 'lastSplitFactor': '0.0111:1', 'lastSplitDate': 1143763200, 'enterpriseToRevenue': 0.424, 'SandP52WeekChange': 0.338071, 'exchange': 'OEM', 'quoteType': 'EQUITY', 'symbol': 'MSTF', 'underlyingSymbol': 'MSTF', 'shortName': 'MONARCH STAFFING INC', 'longName': 'Monarch Staffing, Inc.', 'firstTradeDateEpochUtc': 1671028200, 'timeZoneFullName': 'America/New_York', 'timeZoneShortName': 'EDT', 'uuid': '316b6bdf-d3d5-3aca-8567-8e6104994b92', 'messageBoardId': 'finmb_26000252', 'gmtOffSetMilliseconds': -14400000, 'currentPrice': 1e-06, 'recommendationKey': 'none', 'totalCash': 3214, 'totalDebt': 3208003, 'quickRatio': 0.623, 'currentRatio': 0.623, 'totalRevenue': 7557027, 'revenuePerShare': 0.749, 'returnOnAssets': -0.08387, 'freeCashflow': 248910, 'operatingCashflow': -252292, 'revenueGrowth': -0.098, 'grossMargins': 0.14644, 'operatingMargins': -0.04, 'financialCurrency': 'USD', 'trailingPegRatio': None}\n",
      "Exibindo dados do Microsoft\n",
      "Arquivo CSV criado com sucesso!\n"
     ]
    }
   ],
   "source": [
    "createFile('MSTF','Microsoft')"
   ]
  }
 ],
 "metadata": {
  "kernelspec": {
   "display_name": "Python 3",
   "language": "python",
   "name": "python3"
  },
  "language_info": {
   "codemirror_mode": {
    "name": "ipython",
    "version": 3
   },
   "file_extension": ".py",
   "mimetype": "text/x-python",
   "name": "python",
   "nbconvert_exporter": "python",
   "pygments_lexer": "ipython3",
   "version": "3.11.9"
  }
 },
 "nbformat": 4,
 "nbformat_minor": 2
}
